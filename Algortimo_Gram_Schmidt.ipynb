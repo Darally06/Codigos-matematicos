{
  "nbformat": 4,
  "nbformat_minor": 0,
  "metadata": {
    "colab": {
      "provenance": [],
      "authorship_tag": "ABX9TyPXzSxGMXFn1UZd6gEX6lOG",
      "include_colab_link": true
    },
    "kernelspec": {
      "name": "python3",
      "display_name": "Python 3"
    },
    "language_info": {
      "name": "python"
    }
  },
  "cells": [
    {
      "cell_type": "markdown",
      "metadata": {
        "id": "view-in-github",
        "colab_type": "text"
      },
      "source": [
        "<a href=\"https://colab.research.google.com/github/Darally06/Codigos-matematicos/blob/main/Algortimo_Gram_Schmidt.ipynb\" target=\"_parent\"><img src=\"https://colab.research.google.com/assets/colab-badge.svg\" alt=\"Open In Colab\"/></a>"
      ]
    },
    {
      "cell_type": "markdown",
      "source": [
        "# Algortimo Gram-Schmidt"
      ],
      "metadata": {
        "id": "R4V1BUuEaM_1"
      }
    },
    {
      "cell_type": "markdown",
      "source": [
        "Este es un proceso, recursivo intuitivo que permite identificar la estructura del algoritmo paso por paso, las operaciones que se utilizan y los requerimientos a tener en cuenta.\n",
        "Se hace uso de clases."
      ],
      "metadata": {
        "id": "lhYVGdHaCDM6"
      }
    },
    {
      "cell_type": "code",
      "execution_count": 1,
      "metadata": {
        "id": "SuzmQRuwaL95"
      },
      "outputs": [],
      "source": [
        "class calculos:\n",
        "    # Producto punto\n",
        "    def producto_punto(v1, v2):\n",
        "        return sum(x * y for x, y in zip(v1, v2))\n",
        "        # Zip toma dos iterables y los empareja elemento por elemento en tuplas\n",
        "\n",
        "    # Multiplicar por escalar\n",
        "    def multiplicarXescalar(escalar, v):\n",
        "        return [escalar * x for x in v]\n",
        "\n",
        "    # Resta de vectores\n",
        "    def resta(v1, v2):\n",
        "        return [x - y for x, y in zip(v1, v2)]\n",
        "\n",
        "    # Normalizar\n",
        "    def normalizar(v):\n",
        "        norm = sum(x ** 2 for x in v) ** 0.5\n",
        "        return [x / norm for x in v]\n",
        "\n",
        "def gram_schmidt(A):\n",
        "    base = []\n",
        "\n",
        "    for i in range(len(A)):\n",
        "        # Proceso de ortogonalización\n",
        "        nuevo = A[i]\n",
        "        for j in range(len(base)):\n",
        "            # Calculo de proyección\n",
        "            proyeccion= calculos.multiplicarXescalar(calculos.producto_punto(A[i], base[j]) / calculos.producto_punto(base[j], base[j]), base[j])\n",
        "            # Resta de proyecciones\n",
        "            nuevo = calculos.resta(nuevo, proyeccion)\n",
        "        base.append(nuevo)\n",
        "\n",
        "    # Normalizar los vectores ortogonales para obtener una base ortonormal\n",
        "    base_ortonormal = [calculos.normalizar(vector) for vector in base]\n",
        "\n",
        "    return base_ortonormal\n"
      ]
    },
    {
      "cell_type": "code",
      "source": [
        "def input_vector(i, dim):\n",
        "    print(f\"Ingrese los elementos del vector {i}:\")\n",
        "    vector = []\n",
        "    while len(vector)<dim:\n",
        "            try:\n",
        "                element = float(input(f\"Elemento {len(vector) + 1}: \"))\n",
        "                vector.append(element)\n",
        "            except ValueError:\n",
        "                print(\"Por favor, ingrese un número válido.\")\n",
        "    return vector\n",
        "\n",
        "def main():\n",
        "    print(\"Proceso de Gram - Schmidt para bases ortonormales\")\n",
        "\n",
        "    # Dimensión esp solución\n",
        "    n = input(\"Ingrese la dimensión del subespacio: \")\n",
        "    try:\n",
        "        n = int(n)\n",
        "        if n <= 0:\n",
        "            raise ValueError\n",
        "    except ValueError:\n",
        "        print(\"La dimensión debe ser un número entero positivo.\")\n",
        "        return\n",
        "\n",
        "    # Cantidad de vectores del generado\n",
        "    r = input(\"Ingrese el número de vectores que conforman generado: \")\n",
        "    try:\n",
        "        r = int(r)\n",
        "        if r <= 0:\n",
        "            raise ValueError\n",
        "    except ValueError:\n",
        "        print(\"El número de vectores debe ser un número entero positivo.\")\n",
        "        return\n",
        "\n",
        "\n",
        "    # Vctores del espacio solución\n",
        "    vectores = []\n",
        "    for i in range(r):\n",
        "        vector = input_vector(i+1, n)\n",
        "        vectores.append(vector)\n",
        "\n",
        "    # Verificar que todos los vectores tengan la misma longitud y que coinciden con la dim especificada\n",
        "    #Si el número de vectores dados es menor que la dimensión del espacio, se pueden completar los vectores faltantes con las bases canónicas.0\n",
        "    tamaño = set(len(vector) for vector in vectores)\n",
        "    if r < n:\n",
        "        print(f\"Se proporcionaron {r} vectores. Se completarán con vectores canónicos.\")\n",
        "        canonicos = [[1 if j == i else 0 for j in range(n)] for i in range(r, n)]\n",
        "        vectores.extend(canonicos)\n",
        "\n",
        "    # Calcular la base ortonormal utilizando Gram-Schmidt\n",
        "    base_ortonormal = gram_schmidt(vectores)\n",
        "    print(\"\\nBase ortonormal:\")\n",
        "    for vector in base_ortonormal:\n",
        "        r_vector = [round(x, 3) for x in vector]\n",
        "        print(r_vector)\n",
        "\n",
        "    vectores.clear()\n",
        "    base_ortonormal.clear()\n",
        "\n",
        "\n",
        "if __name__ == \"__main__\":\n",
        "    main()\n"
      ],
      "metadata": {
        "colab": {
          "base_uri": "https://localhost:8080/"
        },
        "id": "RBQTHydTJ2iZ",
        "outputId": "8f037860-5bbe-4dcb-d341-aa60665878fa"
      },
      "execution_count": 7,
      "outputs": [
        {
          "output_type": "stream",
          "name": "stdout",
          "text": [
            "Proceso de Gram - Schmidt para bases ortonormales\n",
            "Ingrese la dimensión del subespacio: 4\n",
            "Ingrese el número de vectores que conforman generado: 3\n",
            "Ingrese los elementos del vector 1:\n",
            "Elemento 1: 1\n",
            "Elemento 2: 1\n",
            "Elemento 3: 0\n",
            "Elemento 4: 0\n",
            "Ingrese los elementos del vector 2:\n",
            "Elemento 1: 1\n",
            "Elemento 2: -1\n",
            "Elemento 3: 1\n",
            "Elemento 4: 1\n",
            "Ingrese los elementos del vector 3:\n",
            "Elemento 1: -1\n",
            "Elemento 2: 0\n",
            "Elemento 3: 2\n",
            "Elemento 4: 1\n",
            "Se proporcionaron 3 vectores. Se completarán con vectores canónicos.\n",
            "\n",
            "Base ortonormal:\n",
            "[0.707, 0.707, 0.0, 0.0]\n",
            "[0.5, -0.5, 0.5, 0.5]\n",
            "[-0.471, 0.471, 0.707, 0.236]\n",
            "[-0.167, 0.167, -0.5, 0.833]\n"
          ]
        }
      ]
    }
  ]
}